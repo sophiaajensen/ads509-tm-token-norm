{
 "cells": [
  {
   "cell_type": "markdown",
   "id": "7f79baf9",
   "metadata": {},
   "source": [
    "# ADS 509 Assignment 2.1: Tokenization, Normalization, Descriptive Statistics \n",
    "\n",
    "This notebook holds Assignment 2.1 for Module 2 in ADS 509, Applied Text Mining. Work through this notebook, writing code and answering questions where required. \n",
    "\n",
    "In the previous assignment you pulled lyrics data on two artists. In this assignment we explore this data set and a pull from the now-defunct Twitter API for the artists Cher and Robyn.  If, for some reason, you did not complete that previous assignment, data to use for this assignment can be found in the assignment materials section of Canvas. \n",
    "\n",
    "This assignment asks you to write a short function to calculate some descriptive statistics on a piece of text. Then you are asked to find some interesting and unique statistics on your corpora. \n"
   ]
  },
  {
   "cell_type": "markdown",
   "id": "aae8e2e1",
   "metadata": {},
   "source": [
    "## General Assignment Instructions\n",
    "\n",
    "These instructions are included in every assignment, to remind you of the coding standards for the class. Feel free to delete this cell after reading it. \n",
    "\n",
    "One sign of mature code is conforming to a style guide. We recommend the [Google Python Style Guide](https://google.github.io/styleguide/pyguide.html). If you use a different style guide, please include a cell with a link. \n",
    "\n",
    "Your code should be relatively easy-to-read, sensibly commented, and clean. Writing code is a messy process, so please be sure to edit your final submission. Remove any cells that are not needed or parts of cells that contain unnecessary code. Remove inessential `import` statements and make sure that all such statements are moved into the designated cell. \n",
    "\n",
    "Make use of non-code cells for written commentary. These cells should be grammatical and clearly written. In some of these cells you will have questions to answer. The questions will be marked by a \"Q:\" and will have a corresponding \"A:\" spot for you. *Make sure to answer every question marked with a `Q:` for full credit.* \n"
   ]
  },
  {
   "cell_type": "code",
   "execution_count": 1,
   "id": "e2d096b7",
   "metadata": {},
   "outputs": [],
   "source": [
    "import os\n",
    "import re\n",
    "import emoji\n",
    "import pandas as pd\n",
    "import numpy as np\n",
    "\n",
    "from collections import Counter, defaultdict\n",
    "from nltk.corpus import stopwords\n",
    "from string import punctuation\n",
    "\n",
    "sw = stopwords.words(\"english\")"
   ]
  },
  {
   "cell_type": "code",
   "execution_count": 22,
   "id": "6b555ab2",
   "metadata": {},
   "outputs": [],
   "source": [
    "# Add any additional import statements you need here\n",
    "\n",
    "\n"
   ]
  },
  {
   "cell_type": "code",
   "execution_count": 2,
   "id": "923b5a86",
   "metadata": {},
   "outputs": [],
   "source": [
    "# change `data_location` to the location of the folder on your machine.\n",
    "data_location = \"/Users/sophie/ads509-tm-token-norm/M1 Results/\"\n",
    "\n",
    "# These subfolders should still work if you correctly stored the \n",
    "# data from the Module 1 assignment\n",
    "twitter_folder = \"twitter/\"\n",
    "lyrics_folder = \"lyrics/\""
   ]
  },
  {
   "cell_type": "code",
   "execution_count": null,
   "id": "a981d48e",
   "metadata": {},
   "outputs": [],
   "source": []
  },
  {
   "cell_type": "code",
   "execution_count": 3,
   "id": "06522af9",
   "metadata": {},
   "outputs": [],
   "source": [
    "def descriptive_stats(tokens, num_tokens = 5, verbose=True) :\n",
    "\n",
    "    \"\"\"\n",
    "        Given a list of tokens, print number of tokens, number of unique tokens, \n",
    "        number of characters, lexical diversity (https://en.wikipedia.org/wiki/Lexical_diversity), \n",
    "        and num_tokens most common tokens. Return a list with the number of tokens, number\n",
    "        of unique tokens, lexical diversity, and number of characters. \n",
    "    \n",
    "    \"\"\"\n",
    "\n",
    "    # Calculate the number of tokens\n",
    "    num_tokens = len(tokens)\n",
    "    # Calculate the number of unique tokens\n",
    "    num_unique_tokens = len(set(tokens))\n",
    "    # Calculate the lexical diversity\n",
    "    lexical_diversity = num_unique_tokens / num_tokens\n",
    "    # Calculate the number of characters\n",
    "    num_characters = sum(len(t) for t in tokens)\n",
    "\n",
    "    \n",
    "    if verbose :        \n",
    "        print(f\"There are {num_tokens} tokens in the data.\")\n",
    "        print(f\"There are {num_unique_tokens} unique tokens in the data.\")\n",
    "        print(f\"There are {num_characters} characters in the data.\")\n",
    "        print(f\"The lexical diversity is {lexical_diversity:.3f} in the data.\")\n",
    "    \n",
    "        # print the five most common tokens\n",
    "        print(\"The five most common tokens:\")\n",
    "        token_counts = Counter(tokens) # 5 is the default\n",
    "        for token, count in token_counts.most_common(5):\n",
    "            print(f\"{token}: {count}\")\n",
    "        print(\"\\n\")\n",
    "    \n",
    "        \n",
    "    return([num_tokens, num_unique_tokens,\n",
    "            lexical_diversity,\n",
    "            num_characters])\n",
    "    "
   ]
  },
  {
   "cell_type": "code",
   "execution_count": 4,
   "id": "59dcf058",
   "metadata": {},
   "outputs": [
    {
     "name": "stdout",
     "output_type": "stream",
     "text": [
      "There are 13 tokens in the data.\n",
      "There are 9 unique tokens in the data.\n",
      "There are 55 characters in the data.\n",
      "The lexical diversity is 0.692 in the data.\n",
      "The five most common tokens:\n",
      "text: 3\n",
      "here: 2\n",
      "example: 2\n",
      "is: 1\n",
      "some: 1\n",
      "\n",
      "\n"
     ]
    }
   ],
   "source": [
    "text = \"\"\"here is some example text with other example text here in this text\"\"\".split()\n",
    "assert(descriptive_stats(text, verbose=True)[0] == 13)\n",
    "assert(descriptive_stats(text, verbose=False)[1] == 9)\n",
    "assert(abs(descriptive_stats(text, verbose=False)[2] - 0.69) < 0.02)\n",
    "assert(descriptive_stats(text, verbose=False)[3] == 55)\n"
   ]
  },
  {
   "cell_type": "markdown",
   "id": "d2e7e1a2",
   "metadata": {},
   "source": [
    "Q: Why is it beneficial to use assertion statements in your code? \n",
    "\n",
    "A: It is beneficial to use assertion statements in your code because it helps you detect errors and invalid assumptions in your code, ultimately helping you fix errors and ensure your code is doing what you intend for it to do."
   ]
  },
  {
   "cell_type": "markdown",
   "id": "9d3bf93e",
   "metadata": {},
   "source": [
    "## Data Input\n",
    "\n",
    "Now read in each of the corpora. For the lyrics data, it may be convenient to store the entire contents of the file to make it easier to inspect the titles individually, as you'll do in the last part of the assignment. In the solution, I stored the lyrics data in a dictionary with two dimensions of keys: artist and song. The value was the file contents. A data frame would work equally well. \n",
    "\n",
    "For the Twitter data, we only need the description field for this assignment. Feel free all the descriptions read it into a data structure. In the solution, I stored the descriptions as a dictionary of lists, with the key being the artist. \n",
    "\n",
    "\n"
   ]
  },
  {
   "cell_type": "code",
   "execution_count": 5,
   "id": "37d70801",
   "metadata": {},
   "outputs": [
    {
     "data": {
      "text/html": [
       "<div>\n",
       "<style scoped>\n",
       "    .dataframe tbody tr th:only-of-type {\n",
       "        vertical-align: middle;\n",
       "    }\n",
       "\n",
       "    .dataframe tbody tr th {\n",
       "        vertical-align: top;\n",
       "    }\n",
       "\n",
       "    .dataframe thead th {\n",
       "        text-align: right;\n",
       "    }\n",
       "</style>\n",
       "<table border=\"1\" class=\"dataframe\">\n",
       "  <thead>\n",
       "    <tr style=\"text-align: right;\">\n",
       "      <th></th>\n",
       "      <th>song</th>\n",
       "      <th>artist</th>\n",
       "      <th>lyrics</th>\n",
       "    </tr>\n",
       "  </thead>\n",
       "  <tbody>\n",
       "    <tr>\n",
       "      <th>0</th>\n",
       "      <td>\"Include Me Out\"</td>\n",
       "      <td>robyn</td>\n",
       "      <td>\\n\\n\\nIt is really very simple\\nJust a single ...</td>\n",
       "    </tr>\n",
       "    <tr>\n",
       "      <th>1</th>\n",
       "      <td>\"Electric\"</td>\n",
       "      <td>robyn</td>\n",
       "      <td>\\n\\n\\nElectric...\\n\\nIt's electric\\nIt's a nat...</td>\n",
       "    </tr>\n",
       "    <tr>\n",
       "      <th>2</th>\n",
       "      <td>\"Beach 2K20\"</td>\n",
       "      <td>robyn</td>\n",
       "      <td>\\n\\n\\n(So you wanna go out?\\nHow you gonna get...</td>\n",
       "    </tr>\n",
       "    <tr>\n",
       "      <th>3</th>\n",
       "      <td>\"Love Kills\"</td>\n",
       "      <td>robyn</td>\n",
       "      <td>\\n\\n\\nIf you're looking for love\\nGet a heart ...</td>\n",
       "    </tr>\n",
       "    <tr>\n",
       "      <th>4</th>\n",
       "      <td>\"Time Machine\"</td>\n",
       "      <td>robyn</td>\n",
       "      <td>\\n\\n\\nHey, what did I do?\\nCan't believe the f...</td>\n",
       "    </tr>\n",
       "    <tr>\n",
       "      <th>...</th>\n",
       "      <td>...</td>\n",
       "      <td>...</td>\n",
       "      <td>...</td>\n",
       "    </tr>\n",
       "    <tr>\n",
       "      <th>401</th>\n",
       "      <td>\"Take It From The Boys\"</td>\n",
       "      <td>cher</td>\n",
       "      <td>\\n\\n\\nSo scared I never been\\nToo hard to keep...</td>\n",
       "    </tr>\n",
       "    <tr>\n",
       "      <th>402</th>\n",
       "      <td>\"Dream Baby\"</td>\n",
       "      <td>cher</td>\n",
       "      <td>\\n\\n\\nI found the boy for me\\nHe's my dream ba...</td>\n",
       "    </tr>\n",
       "    <tr>\n",
       "      <th>403</th>\n",
       "      <td>\"Please Don't Tell Me\"</td>\n",
       "      <td>cher</td>\n",
       "      <td>\\n\\n\\nYa shook the override \\nWhy'd I get this...</td>\n",
       "    </tr>\n",
       "    <tr>\n",
       "      <th>404</th>\n",
       "      <td>\"I Hope You Find It\"</td>\n",
       "      <td>cher</td>\n",
       "      <td>\\n\\n\\nThese clouds aren't going nowhere, darli...</td>\n",
       "    </tr>\n",
       "    <tr>\n",
       "      <th>405</th>\n",
       "      <td>\"Classified 1A\"</td>\n",
       "      <td>cher</td>\n",
       "      <td>\\n\\n\\nI know now how much I love you\\nI knew i...</td>\n",
       "    </tr>\n",
       "  </tbody>\n",
       "</table>\n",
       "<p>406 rows × 3 columns</p>\n",
       "</div>"
      ],
      "text/plain": [
       "                        song artist  \\\n",
       "0           \"Include Me Out\"  robyn   \n",
       "1                 \"Electric\"  robyn   \n",
       "2               \"Beach 2K20\"  robyn   \n",
       "3               \"Love Kills\"  robyn   \n",
       "4             \"Time Machine\"  robyn   \n",
       "..                       ...    ...   \n",
       "401  \"Take It From The Boys\"   cher   \n",
       "402             \"Dream Baby\"   cher   \n",
       "403   \"Please Don't Tell Me\"   cher   \n",
       "404     \"I Hope You Find It\"   cher   \n",
       "405          \"Classified 1A\"   cher   \n",
       "\n",
       "                                                lyrics  \n",
       "0    \\n\\n\\nIt is really very simple\\nJust a single ...  \n",
       "1    \\n\\n\\nElectric...\\n\\nIt's electric\\nIt's a nat...  \n",
       "2    \\n\\n\\n(So you wanna go out?\\nHow you gonna get...  \n",
       "3    \\n\\n\\nIf you're looking for love\\nGet a heart ...  \n",
       "4    \\n\\n\\nHey, what did I do?\\nCan't believe the f...  \n",
       "..                                                 ...  \n",
       "401  \\n\\n\\nSo scared I never been\\nToo hard to keep...  \n",
       "402  \\n\\n\\nI found the boy for me\\nHe's my dream ba...  \n",
       "403  \\n\\n\\nYa shook the override \\nWhy'd I get this...  \n",
       "404  \\n\\n\\nThese clouds aren't going nowhere, darli...  \n",
       "405  \\n\\n\\nI know now how much I love you\\nI knew i...  \n",
       "\n",
       "[406 rows x 3 columns]"
      ]
     },
     "execution_count": 5,
     "metadata": {},
     "output_type": "execute_result"
    }
   ],
   "source": [
    "# Read in the lyrics data \n",
    "\n",
    "lyrics_data = defaultdict(dict)\n",
    "\n",
    "for item in os.listdir(data_location + lyrics_folder):\n",
    "    if os.path.isdir(data_location + lyrics_folder + item):\n",
    "        for lyrics_page in os.listdir(data_location + lyrics_folder + item):\n",
    "            artist = lyrics_page.split(\"_\")[0]\n",
    "            # Get the song name from the first line of the txt file\n",
    "            with open(data_location + lyrics_folder + item + \"/\" + lyrics_page) as file:\n",
    "                song = file.readline().strip()  # Read the first line and remove any extra spaces/newlines\n",
    "                lyrics = file.read()  # Read the rest of the file for the lyrics\n",
    "            lyrics_data[item][song] = lyrics\n",
    "\n",
    "# Create a DataFrame with the lyrics data\n",
    "lyrics_df = pd.DataFrame.from_dict(lyrics_data, orient='index').T\n",
    "lyrics_df.index.name = 'song'\n",
    "lyrics_df.columns.name = 'artist'\n",
    "# Transpose the DataFrame\n",
    "lyrics_df = lyrics_df.stack().reset_index()\n",
    "lyrics_df.columns = ['song', 'artist', 'lyrics']\n",
    "\n",
    "lyrics_df\n"
   ]
  },
  {
   "cell_type": "code",
   "execution_count": 6,
   "id": "debcac5a",
   "metadata": {},
   "outputs": [
    {
     "data": {
      "text/html": [
       "<div>\n",
       "<style scoped>\n",
       "    .dataframe tbody tr th:only-of-type {\n",
       "        vertical-align: middle;\n",
       "    }\n",
       "\n",
       "    .dataframe tbody tr th {\n",
       "        vertical-align: top;\n",
       "    }\n",
       "\n",
       "    .dataframe thead th {\n",
       "        text-align: right;\n",
       "    }\n",
       "</style>\n",
       "<table border=\"1\" class=\"dataframe\">\n",
       "  <thead>\n",
       "    <tr style=\"text-align: right;\">\n",
       "      <th></th>\n",
       "      <th>tweet</th>\n",
       "      <th>artist</th>\n",
       "      <th>text</th>\n",
       "    </tr>\n",
       "  </thead>\n",
       "  <tbody>\n",
       "    <tr>\n",
       "      <th>0</th>\n",
       "      <td>0</td>\n",
       "      <td>cher</td>\n",
       "      <td>𝙿𝚛𝚘𝚞𝚍 𝚜𝚞𝚙𝚙𝚘𝚛𝚝𝚎𝚛 𝚘𝚏 𝚖𝚎𝚜𝚜𝚢 𝚋𝚞𝚗𝚜 &amp; 𝚕𝚎𝚐𝚐𝚒𝚗𝚐𝚜</td>\n",
       "    </tr>\n",
       "    <tr>\n",
       "      <th>1</th>\n",
       "      <td>0</td>\n",
       "      <td>robyn</td>\n",
       "      <td>\"I love chill\" •Facebook / Instagram / SoundCl...</td>\n",
       "    </tr>\n",
       "    <tr>\n",
       "      <th>2</th>\n",
       "      <td>1</td>\n",
       "      <td>cher</td>\n",
       "      <td>163㎝／愛かっぷ💜26歳🍒 工〇好きな女の子💓 フォローしてくれたらDMします🧡</td>\n",
       "    </tr>\n",
       "    <tr>\n",
       "      <th>3</th>\n",
       "      <td>1</td>\n",
       "      <td>robyn</td>\n",
       "      <td>books, movies, music, nature &amp; TV shows. OG Sw...</td>\n",
       "    </tr>\n",
       "    <tr>\n",
       "      <th>4</th>\n",
       "      <td>2</td>\n",
       "      <td>cher</td>\n",
       "      <td>csu</td>\n",
       "    </tr>\n",
       "  </tbody>\n",
       "</table>\n",
       "</div>"
      ],
      "text/plain": [
       "   tweet artist                                               text\n",
       "0      0   cher           𝙿𝚛𝚘𝚞𝚍 𝚜𝚞𝚙𝚙𝚘𝚛𝚝𝚎𝚛 𝚘𝚏 𝚖𝚎𝚜𝚜𝚢 𝚋𝚞𝚗𝚜 & 𝚕𝚎𝚐𝚐𝚒𝚗𝚐𝚜\n",
       "1      0  robyn  \"I love chill\" •Facebook / Instagram / SoundCl...\n",
       "2      1   cher          163㎝／愛かっぷ💜26歳🍒 工〇好きな女の子💓 フォローしてくれたらDMします🧡\n",
       "3      1  robyn  books, movies, music, nature & TV shows. OG Sw...\n",
       "4      2   cher                                                csu"
      ]
     },
     "execution_count": 6,
     "metadata": {},
     "output_type": "execute_result"
    }
   ],
   "source": [
    "# Read in the twitter data\n",
    "\n",
    "twitter = os.listdir(data_location + twitter_folder)\n",
    "description_field = [f for f in twitter if \"followers_data\" in f] #description field is in this .txt file\n",
    "\n",
    "twitter_data = defaultdict(list)\n",
    "\n",
    "for f in description_field:\n",
    "    # Get the artist name from the filename\n",
    "    # The artist name is the first part of the filename, before the underscore\n",
    "    artist = f.split(\"_\")[0]\n",
    "    artist_map = {\"robynkonichiwa\": \"robyn\", \"cher_official\": \"cher\"} # map the artist names to the correct format\n",
    "    artist = artist_map.get(artist, artist)\n",
    "\n",
    "    with open(data_location + twitter_folder + f, 'r', encoding='utf8') as infile:\n",
    "        next(infile) # open each file skip the header\n",
    "        for idx, line in enumerate(infile.readlines()):\n",
    "\n",
    "            line = line.strip().split(\"\\t\") # reads lines splitting using tab \n",
    "            if len(line) == 7: #appends the 7th column (description field)\n",
    "                twitter_data[artist].append(line[6])\n",
    "\n",
    "# Create a DataFrame with the twitter data\n",
    "twitter_df = pd.DataFrame.from_dict(twitter_data, orient='index').T\n",
    "twitter_df.index.name = \"tweet\"\n",
    "twitter_df.columns.name = \"artist\"\n",
    "# Transpose the DataFrame\n",
    "twitter_df = twitter_df.stack().reset_index()\n",
    "twitter_df.columns = ['tweet', 'artist', 'text']\n",
    "\n",
    "twitter_df.head()"
   ]
  },
  {
   "cell_type": "markdown",
   "id": "6a5f3b12",
   "metadata": {},
   "source": [
    "## Data Cleaning\n",
    "\n",
    "Now clean and tokenize your data. Remove punctuation chacters (available in the `punctuation` object in the `string` library), split on whitespace, fold to lowercase, and remove stopwords. Store your cleaned data, which must be accessible as an interable for `descriptive_stats`, in new objects or in new columns in your data frame. \n",
    "\n"
   ]
  },
  {
   "cell_type": "code",
   "execution_count": 7,
   "id": "71c73d86",
   "metadata": {},
   "outputs": [],
   "source": [
    "punctuation = set(punctuation) # speeds up comparison"
   ]
  },
  {
   "cell_type": "code",
   "execution_count": 8,
   "id": "b327033a",
   "metadata": {},
   "outputs": [],
   "source": [
    "# create your clean twitter data here\n",
    "# split on whitespace, fold to lowercase, and remove stopwords\n",
    "\n",
    "def clean_data(text):\n",
    "    \"\"\"\n",
    "        Given a string of text, return a list of tokens that have been cleaned. \n",
    "        The cleaning process should include:\n",
    "            - removing punctuation\n",
    "            - folding to lowercase\n",
    "            - removing stopwords\n",
    "    \"\"\"\n",
    "    # remove punctuation\n",
    "    text = ''.join([c for c in text if c not in punctuation])\n",
    "\n",
    "    # fold to lowercase\n",
    "    text = text.lower()\n",
    "\n",
    "    # split on whitespace\n",
    "    tokens = text.split()\n",
    "\n",
    "    # remove stopwords\n",
    "    tokens = [t for t in tokens if t not in sw]\n",
    "\n",
    "    return tokens\n",
    "# Apply the clean_twitter_data function to the text column\n",
    "twitter_df['tokens'] = twitter_df['text'].apply(clean_data)"
   ]
  },
  {
   "cell_type": "code",
   "execution_count": 9,
   "id": "b1b1c2eb",
   "metadata": {},
   "outputs": [
    {
     "data": {
      "text/plain": [
       "0        [𝙿𝚛𝚘𝚞𝚍, 𝚜𝚞𝚙𝚙𝚘𝚛𝚝𝚎𝚛, 𝚘𝚏, 𝚖𝚎𝚜𝚜𝚢, 𝚋𝚞𝚗𝚜, 𝚕𝚎𝚐𝚐𝚒𝚗𝚐𝚜]\n",
       "1    [love, chill, •facebook, instagram, soundcloud...\n",
       "2        [163㎝／愛かっぷ💜26歳🍒, 工〇好きな女の子💓, フォローしてくれたらdmします🧡]\n",
       "3    [books, movies, music, nature, tv, shows, og, ...\n",
       "4                                                [csu]\n",
       "5    [amauteur, en, herbe, 🌱, juriste, en, paille, ...\n",
       "6    [writer, washinformer, spelmancollege, alumna,...\n",
       "7    [twitter, profile, full, sarcasm, rants, occas...\n",
       "8              [i’m, unemployed, live, parents, moops]\n",
       "9    [flora, youssef, blogger, founder, posting, re...\n",
       "Name: tokens, dtype: object"
      ]
     },
     "execution_count": 9,
     "metadata": {},
     "output_type": "execute_result"
    }
   ],
   "source": [
    "twitter_df['tokens'].head(10) "
   ]
  },
  {
   "cell_type": "code",
   "execution_count": 10,
   "id": "e0f22e10",
   "metadata": {},
   "outputs": [
    {
     "data": {
      "text/plain": [
       "0    [really, simple, single, pulse, repeated, regu...\n",
       "1    [electric, electric, natural, high, electric, ...\n",
       "2    [wanna, go, gonna, get, ok, call, someone, alr...\n",
       "3    [youre, looking, love, get, heart, made, steel...\n",
       "4    [hey, cant, believe, fit, threw, stupid, wante...\n",
       "Name: tokens, dtype: object"
      ]
     },
     "execution_count": 10,
     "metadata": {},
     "output_type": "execute_result"
    }
   ],
   "source": [
    "# create your clean lyrics data here\n",
    "# Apply the clean_data function to the lyrics column\n",
    "lyrics_df['tokens'] = lyrics_df['lyrics'].apply(clean_data)\n",
    "lyrics_df['tokens'].head()"
   ]
  },
  {
   "cell_type": "markdown",
   "id": "f2dd0179",
   "metadata": {},
   "source": [
    "## Basic Descriptive Statistics\n",
    "\n",
    "Call your `descriptive_stats` function on both your lyrics data and your twitter data and for both artists (four total calls). "
   ]
  },
  {
   "cell_type": "code",
   "execution_count": 11,
   "id": "f0bbedd9",
   "metadata": {},
   "outputs": [
    {
     "name": "stdout",
     "output_type": "stream",
     "text": [
      "There are 17166030 tokens in the data.\n",
      "There are 1633934 unique tokens in the data.\n",
      "There are 102079535 characters in the data.\n",
      "The lexical diversity is 0.095 in the data.\n",
      "The five most common tokens:\n",
      "love: 226253\n",
      "im: 148149\n",
      "life: 130363\n",
      "music: 103324\n",
      "de: 79357\n",
      "\n",
      "\n",
      "Twitter Stats: [17166030, 1633934, 0.0951841514898902, 102079535]\n",
      "\n",
      "There are 47941 tokens in the data.\n",
      "There are 4628 unique tokens in the data.\n",
      "There are 230333 characters in the data.\n",
      "The lexical diversity is 0.097 in the data.\n",
      "The five most common tokens:\n",
      "love: 1161\n",
      "im: 764\n",
      "know: 712\n",
      "dont: 680\n",
      "baby: 526\n",
      "\n",
      "\n",
      "Lyrics Stats: [47941, 4628, 0.09653532466990676, 230333]\n",
      "\n",
      "There are 34922 tokens in the data.\n",
      "There are 3682 unique tokens in the data.\n",
      "There are 167670 characters in the data.\n",
      "The lexical diversity is 0.105 in the data.\n",
      "The five most common tokens:\n",
      "love: 923\n",
      "im: 509\n",
      "know: 475\n",
      "dont: 428\n",
      "youre: 332\n",
      "\n",
      "\n",
      "Cher Lyrics Stats: [34922, 3682, 0.10543496936028865, 167670]\n",
      "\n",
      "There are 13019 tokens in the data.\n",
      "There are 2139 unique tokens in the data.\n",
      "There are 62663 characters in the data.\n",
      "The lexical diversity is 0.164 in the data.\n",
      "The five most common tokens:\n",
      "im: 255\n",
      "dont: 252\n",
      "love: 238\n",
      "know: 237\n",
      "got: 230\n",
      "\n",
      "\n",
      "Robyn Lyrics Stats: [13019, 2139, 0.1642983332053153, 62663]\n",
      "\n"
     ]
    }
   ],
   "source": [
    "# calls to descriptive_stats here\n",
    "# Flatten all tokens into one list\n",
    "twitter_tokens = [token for tokens in twitter_df['tokens'] for token in tokens]\n",
    "lyrics_tokens = [token for tokens in lyrics_df['tokens'] for token in tokens]\n",
    "\n",
    "# Call descriptive_stats on the flattened list\n",
    "print(f\"Twitter Stats: {descriptive_stats(twitter_tokens)}\\n\")\n",
    "print(f\"Lyrics Stats: {descriptive_stats(lyrics_tokens)}\\n\")\n",
    "\n",
    "# Artist cher stats\n",
    "cher_lyrics_df = lyrics_df[lyrics_df['artist'] == 'cher']\n",
    "cher_tokens = [token for tokens in cher_lyrics_df['tokens'] for token in tokens]\n",
    "print(f\"Cher Lyrics Stats: {descriptive_stats(cher_tokens)}\\n\")\n",
    "\n",
    "# Artist robyn stats\n",
    "robyn_lyrics_df = lyrics_df[lyrics_df['artist'] == 'robyn']\n",
    "robyn_tokens = [token for tokens in robyn_lyrics_df['tokens'] for token in tokens]\n",
    "print(f\"Robyn Lyrics Stats: {descriptive_stats(robyn_tokens)}\\n\")\n"
   ]
  },
  {
   "cell_type": "markdown",
   "id": "46294409",
   "metadata": {},
   "source": [
    "Q: How do you think the \"top 5 words\" would be different if we left stopwords in the data? \n",
    "\n",
    "A: Since stopwords are so common in English language, if the stop words were left the top 5 words would likely be stopwords instead of pulling more meaningful words out of the text. \n",
    "\n",
    "---\n",
    "\n",
    "Q: What were your prior beliefs about the lexical diversity between the artists? Does the difference (or lack thereof) in lexical diversity between the artists conform to your prior beliefs? \n",
    "\n",
    "A: Based on the top 5 words from each artist, there is not much of a difference between the top 5 words. Robyn and Cher are both pop artists that sing similar music and focus on similar themes so their most common words are similar.\n"
   ]
  },
  {
   "cell_type": "markdown",
   "id": "4d4e1ac1",
   "metadata": {},
   "source": [
    "\n",
    "## Specialty Statistics\n",
    "\n",
    "The descriptive statistics we have calculated are quite generic. You will now calculate a handful of statistics tailored to these data.\n",
    "\n",
    "1. Ten most common emojis by artist in the twitter descriptions.\n",
    "1. Ten most common hashtags by artist in the twitter descriptions.\n",
    "1. Five most common words in song titles by artist. \n",
    "1. For each artist, a histogram of song lengths (in terms of number of tokens) \n",
    "\n",
    "We can use the `emoji` library to help us identify emojis and you have been given a function to help you.\n"
   ]
  },
  {
   "cell_type": "code",
   "execution_count": 12,
   "id": "753a5a3e",
   "metadata": {},
   "outputs": [],
   "source": [
    "assert(emoji.is_emoji(\"❤️\"))\n",
    "assert(not emoji.is_emoji(\":-)\"))"
   ]
  },
  {
   "cell_type": "markdown",
   "id": "986fc4c0",
   "metadata": {},
   "source": [
    "### Emojis 😁\n",
    "\n",
    "What are the ten most common emojis by artist in the twitter descriptions? \n"
   ]
  },
  {
   "cell_type": "code",
   "execution_count": 13,
   "id": "269cd433",
   "metadata": {},
   "outputs": [
    {
     "name": "stdout",
     "output_type": "stream",
     "text": [
      "Most common emojis for cher:\n",
      "❤: 79223\n",
      "🌈: 47549\n",
      "♥: 33978\n",
      "🏳: 33412\n",
      "✨: 29468\n",
      "💙: 21379\n",
      "🏻: 20930\n",
      "🌊: 20223\n",
      "✌: 16773\n",
      "💜: 16550\n",
      "\n",
      "\n",
      "Most common emojis for robyn:\n",
      "❤: 4783\n",
      "🌈: 4685\n",
      "🏳: 3528\n",
      "♥: 3103\n",
      "✨: 2223\n",
      "🏻: 1495\n",
      "✌: 1189\n",
      "🏼: 1139\n",
      "♀: 836\n",
      "💙: 809\n",
      "\n",
      "\n"
     ]
    }
   ],
   "source": [
    "# find ten most common emojis by artist in the twitter data\n",
    "def find_emoji_counts(twitter_df):\n",
    "    \"\"\"\n",
    "        Given a DataFrame of twitter data, return a dictionary of emoji counts by artist.\n",
    "    \"\"\"\n",
    "    # Create a dictionary to hold the emoji counts\n",
    "    emoji_counts = defaultdict(Counter)\n",
    "\n",
    "    # Iterate through the DataFrame\n",
    "    for index, row in twitter_df.iterrows():\n",
    "        # Get the artist name\n",
    "        artist = row['artist']\n",
    "        # Get the text\n",
    "        text = row['text']\n",
    "        # Find all emojis in the text\n",
    "        emojis = [c for c in text if emoji.is_emoji(c)]\n",
    "        # Update the counter for the artist\n",
    "        emoji_counts[artist].update(emojis)\n",
    "\n",
    "    return emoji_counts\n",
    "\n",
    "# Call the function\n",
    "emoji_counts = find_emoji_counts(twitter_df)\n",
    "\n",
    "# Print the ten most common emojis for each artist\n",
    "for artist, counts in emoji_counts.items():\n",
    "    print(f\"Most common emojis for {artist}:\")\n",
    "    for emoji, count in counts.most_common(10):\n",
    "        print(f\"{emoji}: {count}\")\n",
    "    print(\"\\n\")\n"
   ]
  },
  {
   "cell_type": "markdown",
   "id": "bab9b770",
   "metadata": {},
   "source": [
    "### Hashtags\n",
    "\n",
    "What are the ten most common hashtags by artist in the twitter descriptions? \n"
   ]
  },
  {
   "cell_type": "code",
   "execution_count": 14,
   "id": "07c396f1",
   "metadata": {},
   "outputs": [
    {
     "name": "stdout",
     "output_type": "stream",
     "text": [
      "Most common hashtags for cher:\n",
      "#resist: 9558\n",
      "#blm: 8753\n",
      "#blacklivesmatter: 7432\n",
      "#fbr: 2922\n",
      "#theresistance: 2883\n",
      "#resistance: 2405\n",
      "#1: 2226\n",
      "#: 1965\n",
      "#voteblue: 1897\n",
      "#lgbtq: 1457\n",
      "\n",
      "\n",
      "Most common hashtags for robyn:\n",
      "#blacklivesmatter: 563\n",
      "#blm: 324\n",
      "#music: 260\n",
      "#1: 187\n",
      "#: 150\n",
      "#teamfollowback: 117\n",
      "#edm: 104\n",
      "#resist: 76\n",
      "#freebritney: 63\n",
      "#lgbtq: 58\n",
      "\n",
      "\n"
     ]
    }
   ],
   "source": [
    "# find ten most common hashtags by artist in the twitter data \n",
    "def find_hashtag_counts(twitter_df):\n",
    "    \"\"\"\n",
    "        Given a DataFrame of twitter data, return a dictionary of hashtag counts by artist.\n",
    "    \"\"\"\n",
    "    # Create a dictionary to hold the hashtag counts\n",
    "    hashtag_counts = defaultdict(Counter)\n",
    "\n",
    "    # Iterate through the DataFrame\n",
    "    for index, row in twitter_df.iterrows():\n",
    "        # Get the artist name\n",
    "        artist = row['artist']\n",
    "        # Get the text\n",
    "        text = row['text']\n",
    "        # Make lowercase\n",
    "        text = text.lower()\n",
    "        # Find all hashtags in the text\n",
    "        hashtags = [c for c in text.split() if c.startswith(\"#\")]\n",
    "        # Update the counter for the artist\n",
    "        hashtag_counts[artist].update(hashtags)\n",
    "\n",
    "    return hashtag_counts\n",
    "# Call the function\n",
    "hashtag_counts = find_hashtag_counts(twitter_df)\n",
    "\n",
    "# Print the ten most common hashtags for each artist\n",
    "for artist, counts in hashtag_counts.items():\n",
    "    print(f\"Most common hashtags for {artist}:\")\n",
    "    for hashtag, count in counts.most_common(10):\n",
    "        print(f\"{hashtag}: {count}\")\n",
    "    print(\"\\n\")"
   ]
  },
  {
   "cell_type": "markdown",
   "id": "d10f21d5",
   "metadata": {},
   "source": [
    "### Song Titles\n",
    "\n",
    "What are the five most common words in song titles by artist? The song titles should be on the first line of the lyrics pages, so if you have kept the raw file contents around, you will not need to re-read the data.\n"
   ]
  },
  {
   "cell_type": "code",
   "execution_count": 15,
   "id": "bb69b36b",
   "metadata": {},
   "outputs": [
    {
     "name": "stdout",
     "output_type": "stream",
     "text": [
      "Most common words in song titles for robyn:\n",
      "\"don't: 3\n",
      "me\": 3\n",
      "girl\": 3\n",
      "thing\": 3\n",
      "\"do: 3\n",
      "\n",
      "\n",
      "Most common words in song titles for cher:\n",
      "\"the: 24\n",
      "\"i: 21\n",
      "love: 16\n",
      "you\": 16\n",
      "me\": 13\n",
      "\n",
      "\n"
     ]
    }
   ],
   "source": [
    "# Your code here\n",
    "# 5 most common words in song title by artist\n",
    "def find_most_common_words(lyrics_df):\n",
    "    \"\"\"\n",
    "        Given a DataFrame of lyrics data, return a dictionary of most common words by artist.\n",
    "    \"\"\"\n",
    "    # Create a dictionary to hold the word counts\n",
    "    word_counts = defaultdict(Counter)\n",
    "\n",
    "    # Iterate through the DataFrame\n",
    "    for index, row in lyrics_df.iterrows():\n",
    "        # Get the artist name\n",
    "        artist = row['artist']\n",
    "        # Get the song title and remove stopwords \n",
    "        words = [word.lower() for word in row['song'].split() if word.lower() not in sw]\n",
    "        # Update the counter for the artist\n",
    "        word_counts[artist].update(words)\n",
    "\n",
    "    return word_counts\n",
    "\n",
    "# Call the function\n",
    "word_counts = find_most_common_words(lyrics_df)\n",
    "# Print the five most common words for each artist\n",
    "for artist, counts in word_counts.items():\n",
    "    print(f\"Most common words in song titles for {artist}:\")\n",
    "    for word, count in counts.most_common(5):\n",
    "        print(f\"{word}: {count}\")\n",
    "    print(\"\\n\")"
   ]
  },
  {
   "cell_type": "markdown",
   "id": "5dd4fd71",
   "metadata": {},
   "source": [
    "### Song Lengths\n",
    "\n",
    "For each artist, a histogram of song lengths (in terms of number of tokens). If you put the song lengths in a data frame with an artist column, matplotlib will make the plotting quite easy. An example is given to help you out. \n"
   ]
  },
  {
   "cell_type": "code",
   "execution_count": 27,
   "id": "805a1e52",
   "metadata": {},
   "outputs": [
    {
     "data": {
      "text/plain": [
       "artist\n",
       "Artist 1    Axes(0.125,0.11;0.775x0.77)\n",
       "Artist 2    Axes(0.125,0.11;0.775x0.77)\n",
       "Name: length, dtype: object"
      ]
     },
     "execution_count": 27,
     "metadata": {},
     "output_type": "execute_result"
    },
    {
     "data": {
      "image/png": "[encoded data removed]",
      "text/plain": [
       "<Figure size 640x480 with 1 Axes>"
      ]
     },
     "metadata": {},
     "output_type": "display_data"
    }
   ],
   "source": [
    "num_replicates = 1000\n",
    "\n",
    "df = pd.DataFrame({\n",
    "    \"artist\" : ['Artist 1'] * num_replicates + ['Artist 2']*num_replicates,\n",
    "    \"length\" : np.concatenate((np.random.poisson(125,num_replicates),np.random.poisson(150,num_replicates)))\n",
    "})\n",
    "\n",
    "df.groupby('artist')['length'].plot(kind=\"hist\",density=True,alpha=0.5,legend=True)"
   ]
  },
  {
   "cell_type": "markdown",
   "id": "8fde9ebb",
   "metadata": {},
   "source": [
    "Since the lyrics may be stored with carriage returns or tabs, it may be useful to have a function that can collapse whitespace, using regular expressions, and be used for splitting. \n",
    "\n",
    "Q: What does the regular expression `'\\s+'` match on? \n",
    "\n",
    "A: The regular expression '\\s+' matches on any whitespace character. This includes tabs, spaces, newline characters. The + sign indicates that it could be one or more occurence of the preceding whitespace character.\n"
   ]
  },
  {
   "cell_type": "code",
   "execution_count": 16,
   "id": "f0e34516",
   "metadata": {},
   "outputs": [],
   "source": [
    "collapse_whitespace = re.compile(r'\\s+')\n",
    "\n",
    "def tokenize_lyrics(lyric) : \n",
    "    \"\"\"strip and split on whitespace\"\"\"\n",
    "    return([item.lower() for item in collapse_whitespace.split(lyric)])"
   ]
  },
  {
   "cell_type": "code",
   "execution_count": 17,
   "id": "2294c440",
   "metadata": {},
   "outputs": [
    {
     "data": {
      "text/plain": [
       "artist\n",
       "cher     Axes(0.125,0.11;0.775x0.77)\n",
       "robyn    Axes(0.125,0.11;0.775x0.77)\n",
       "Name: length, dtype: object"
      ]
     },
     "execution_count": 17,
     "metadata": {},
     "output_type": "execute_result"
    },
    {
     "data": {
      "image/png": "[encoded data removed]",
      "text/plain": [
       "<Figure size 640x480 with 1 Axes>"
      ]
     },
     "metadata": {},
     "output_type": "display_data"
    }
   ],
   "source": [
    "# Your lyric length comparison chart here. \n",
    "# Create a new column for the length of song lyrics\n",
    "lyrics_df['length'] = lyrics_df['lyrics'].apply(lambda x: len(tokenize_lyrics(x)))\n",
    "\n",
    "# Lyric length comparison by artist histogram\n",
    "lyrics_df.groupby('artist')['length'].plot(kind=\"hist\",density=True,alpha=0.5,legend=True)"
   ]
  }
 ],
 "metadata": {
  "kernelspec": {
   "display_name": "502",
   "language": "python",
   "name": "python3"
  },
  "language_info": {
   "codemirror_mode": {
    "name": "ipython",
    "version": 3
   },
   "file_extension": ".py",
   "mimetype": "text/x-python",
   "name": "python",
   "nbconvert_exporter": "python",
   "pygments_lexer": "ipython3",
   "version": "3.10.12"
  }
 },
 "nbformat": 4,
 "nbformat_minor": 5
}
